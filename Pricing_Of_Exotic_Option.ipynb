{
  "nbformat": 4,
  "nbformat_minor": 0,
  "metadata": {
    "colab": {
      "provenance": [],
      "authorship_tag": "ABX9TyOe8dozTmWbBhjZkY20opEk",
      "include_colab_link": true
    },
    "kernelspec": {
      "name": "python3",
      "display_name": "Python 3"
    },
    "language_info": {
      "name": "python"
    }
  },
  "cells": [
    {
      "cell_type": "markdown",
      "metadata": {
        "id": "view-in-github",
        "colab_type": "text"
      },
      "source": [
        "<a href=\"https://colab.research.google.com/github/KrabMads/FinanceStuff/blob/main/Pricing_Of_Exotic_Option.ipynb\" target=\"_parent\"><img src=\"https://colab.research.google.com/assets/colab-badge.svg\" alt=\"Open In Colab\"/></a>"
      ]
    },
    {
      "cell_type": "markdown",
      "source": [
        "**Pricing of knock out option -> if option goes above x value it's worthless**"
      ],
      "metadata": {
        "id": "3hpq-3wpWFOl"
      }
    },
    {
      "cell_type": "code",
      "execution_count": null,
      "metadata": {
        "colab": {
          "base_uri": "https://localhost:8080/"
        },
        "id": "oeHADZRUndZp",
        "outputId": "f9199730-d1a2-467b-c93a-52b0a69acf64"
      },
      "outputs": [
        {
          "output_type": "stream",
          "name": "stdout",
          "text": [
            "Looking in indexes: https://pypi.org/simple, https://us-python.pkg.dev/colab-wheels/public/simple/\n",
            "Requirement already satisfied: numpy in /usr/local/lib/python3.7/dist-packages (1.21.6)\n",
            "Requirement already satisfied: pandas in /usr/local/lib/python3.7/dist-packages (1.3.5)\n",
            "Requirement already satisfied: matplotlib in /usr/local/lib/python3.7/dist-packages (3.2.2)\n",
            "Requirement already satisfied: pytz>=2017.3 in /usr/local/lib/python3.7/dist-packages (from pandas) (2022.6)\n",
            "Requirement already satisfied: python-dateutil>=2.7.3 in /usr/local/lib/python3.7/dist-packages (from pandas) (2.8.2)\n",
            "Requirement already satisfied: six>=1.5 in /usr/local/lib/python3.7/dist-packages (from python-dateutil>=2.7.3->pandas) (1.15.0)\n",
            "Requirement already satisfied: kiwisolver>=1.0.1 in /usr/local/lib/python3.7/dist-packages (from matplotlib) (1.4.4)\n",
            "Requirement already satisfied: pyparsing!=2.0.4,!=2.1.2,!=2.1.6,>=2.0.1 in /usr/local/lib/python3.7/dist-packages (from matplotlib) (3.0.9)\n",
            "Requirement already satisfied: cycler>=0.10 in /usr/local/lib/python3.7/dist-packages (from matplotlib) (0.11.0)\n",
            "Requirement already satisfied: typing-extensions in /usr/local/lib/python3.7/dist-packages (from kiwisolver>=1.0.1->matplotlib) (4.1.1)\n"
          ]
        }
      ],
      "source": [
        "!pip install numpy pandas matplotlib  "
      ]
    },
    {
      "cell_type": "code",
      "source": [
        "import numpy as np\n",
        "import pandas as pd\n",
        "import matplotlib.pyplot as plt\n",
        "import math"
      ],
      "metadata": {
        "id": "nfVE7JD_orqE"
      },
      "execution_count": null,
      "outputs": []
    },
    {
      "cell_type": "code",
      "source": [
        "steps_per_year = 1000\n",
        "delta_t = 1/steps_per_year\n",
        "t = 1\n",
        "time_period = np.arange(0, t, delta_t)\n",
        "mu = 0.14\n",
        "sigma = 0.2"
      ],
      "metadata": {
        "id": "rSIFSh3qot6L"
      },
      "execution_count": null,
      "outputs": []
    },
    {
      "cell_type": "code",
      "source": [
        "from numpy.random.mtrand import random_integers\n",
        "random_integers = np.random.normal(size=(np.shape(time_period)[0]))\n",
        "st = [100]"
      ],
      "metadata": {
        "id": "RGpymPWYqhfd"
      },
      "execution_count": null,
      "outputs": []
    },
    {
      "cell_type": "code",
      "source": [
        "def gbm(steps_per_year = 1000, t = 1, mu = 0.14, sigma = 0.2, st = [100]):\n",
        "  delta_t = 1/steps_per_year\n",
        "  for i in range(steps_per_year):\n",
        "      change = st[-1]*delta_t*mu+sigma*st[-1]*math.sqrt(delta_t)*np.random.normal()\n",
        "      st = np.append(st,st[-1]+change)\n",
        "  #return(plt.plot(st))\n",
        "  return(st)"
      ],
      "metadata": {
        "id": "ELSCAH8briUT"
      },
      "execution_count": null,
      "outputs": []
    },
    {
      "cell_type": "code",
      "source": [
        "start = gbm()\n",
        "start = start.reshape((-1,1))\n",
        "np.shape(start)"
      ],
      "metadata": {
        "colab": {
          "base_uri": "https://localhost:8080/"
        },
        "id": "FwgEqPw-2ZWn",
        "outputId": "730113db-1357-4e1e-b7ac-2a1c6374631f"
      },
      "execution_count": null,
      "outputs": [
        {
          "output_type": "execute_result",
          "data": {
            "text/plain": [
              "(1001, 1)"
            ]
          },
          "metadata": {},
          "execution_count": 45
        }
      ]
    },
    {
      "cell_type": "code",
      "source": [
        "for i in range(0, 1000, 1):\n",
        "  loop = gbm()\n",
        "  loop = loop.reshape((-1,1))\n",
        "  sim = np.append(start, loop, axis=1)"
      ],
      "metadata": {
        "id": "-OpjGmpbuOju"
      },
      "execution_count": null,
      "outputs": []
    },
    {
      "cell_type": "code",
      "source": [
        "fig = plt.figure() \n",
        "ax1 = fig.add_subplot(2, 2, 1)\n",
        "ax1.plot(sim)\n",
        "ax2 = fig.add_subplot(2, 2, 2)\n",
        "ax2.hist(sim[-1], bins=20, color='black', alpha=0.9)\n",
        "plt.show()"
      ],
      "metadata": {
        "colab": {
          "base_uri": "https://localhost:8080/",
          "height": 147
        },
        "id": "uUuLYUL1w1vf",
        "outputId": "22a6f6c1-7ea7-4060-aac4-0da39db07a1e"
      },
      "execution_count": null,
      "outputs": [
        {
          "output_type": "display_data",
          "data": {
            "text/plain": [
              "<Figure size 432x288 with 2 Axes>"
            ],
            "image/png": "[encoded data removed]"
          },
          "metadata": {
            "needs_background": "light"
          }
        }
      ]
    },
    {
      "cell_type": "code",
      "source": [
        "print('mean')\n",
        "print(np.mean(sim[-1]), '\\n')\n",
        "print('max')\n",
        "print(np.max(sim[-1]), '\\n')\n",
        "print('min')\n",
        "print(np.min(sim[-1]), '\\n')"
      ],
      "metadata": {
        "colab": {
          "base_uri": "https://localhost:8080/"
        },
        "id": "PgjK-Jf-5xM5",
        "outputId": "07f0a7e9-1084-48f6-8f85-f5daef91c595"
      },
      "execution_count": null,
      "outputs": [
        {
          "output_type": "stream",
          "name": "stdout",
          "text": [
            "mean\n",
            "104.0191955656731 \n",
            "\n",
            "max\n",
            "123.62406850700287 \n",
            "\n",
            "min\n",
            "84.41432262434333 \n",
            "\n"
          ]
        }
      ]
    },
    {
      "cell_type": "code",
      "source": [
        "#price of knock out option -> if option goes above x value it's worthless"
      ],
      "metadata": {
        "id": "ofS5LrJ57EIY"
      },
      "execution_count": null,
      "outputs": []
    },
    {
      "cell_type": "code",
      "source": [
        "strike = 75\n",
        "barrier = 110\n",
        "act = gbm()\n",
        "optionvalue = []\n",
        "barrierhit = []\n",
        "\n",
        "for i in range(0,np.shape(gbm())[0],1):\n",
        "  if act[i] >= barrier:\n",
        "    loop_optionvalue = 0\n",
        "    barrierhit = 1\n",
        "  else:\n",
        "    if barrierhit == 1:\n",
        "      loop_optionvalue = 0\n",
        "    else:\n",
        "      loop_optionvalue = act[i] - strike \n",
        "  optionvalue = np.append(optionvalue,loop_optionvalue)\n"
      ],
      "metadata": {
        "id": "bdgWD1A-7ORe"
      },
      "execution_count": null,
      "outputs": []
    },
    {
      "cell_type": "markdown",
      "source": [
        "**Plot the option value over the maturity length of the option**"
      ],
      "metadata": {
        "id": "fU_fgo4LWdoM"
      }
    },
    {
      "cell_type": "code",
      "source": [
        "constant = np.ones(1000)*barrier\n",
        "\n",
        "plt.plot(optionvalue, label = 'Option value')\n",
        "plt.plot(act, label = 'Stock value')\n",
        "plt.plot(constant, label = 'Barrier', color = 'black')\n",
        "plt.legend()\n",
        "plt.show()"
      ],
      "metadata": {
        "colab": {
          "base_uri": "https://localhost:8080/",
          "height": 268
        },
        "id": "k-JG4MMX8gQO",
        "outputId": "a615fd3c-3292-4e43-d129-68730ccbf03d"
      },
      "execution_count": null,
      "outputs": [
        {
          "output_type": "display_data",
          "data": {
            "text/plain": [
              "<Figure size 432x288 with 1 Axes>"
            ],
            "image/png": "[encoded data removed]"
          },
          "metadata": {
            "needs_background": "light"
          }
        }
      ]
    },
    {
      "cell_type": "code",
      "source": [],
      "metadata": {
        "id": "r5N5eQthXW4q"
      },
      "execution_count": null,
      "outputs": []
    },
    {
      "cell_type": "code",
      "source": [
        "def barrierknockout(strike=75, barrier=110, no_sims=10):\n",
        "  strike = strike\n",
        "  barrier = barrier\n",
        "  act = gbm()\n",
        "  meanoptionvalue = []\n",
        "  listofoptionvalues = []\n",
        "  \n",
        "  for x in range(0,no_sims,1):\n",
        "    act = gbm()\n",
        "    optionvalue = []\n",
        "    barrierhit = []\n",
        "  \n",
        "    for i in range(0,np.shape(gbm())[0],1):\n",
        "      if act[i] >= barrier:\n",
        "        loop_optionvalue = 0\n",
        "        barrierhit = 1\n",
        "      else:\n",
        "        if barrierhit == 1:\n",
        "          loop_optionvalue = 0\n",
        "        else:\n",
        "          loop_optionvalue = act[i] - strike \n",
        "      optionvalue = np.append(optionvalue,loop_optionvalue)\n",
        "    listofoptionvalues = np.append(listofoptionvalues, optionvalue[-1])\n",
        "  meanoptionvalue = np.append(meanoptionvalue, np.mean(listofoptionvalues))\n",
        "\n",
        "  return(meanoptionvalue, optionvalue[-1], listofoptionvalues)"
      ],
      "metadata": {
        "id": "YJpLgkl7VQ3c"
      },
      "execution_count": null,
      "outputs": []
    },
    {
      "cell_type": "code",
      "source": [
        "mean, last, list = barrierknockout(75,120, 25)\n",
        "print(mean,'\\n')\n",
        "print(last,'\\n')\n",
        "print(list,'\\n')"
      ],
      "metadata": {
        "colab": {
          "base_uri": "https://localhost:8080/"
        },
        "id": "V3wj2xBlmdyA",
        "outputId": "2ba69227-6d9c-4a69-f309-e0c0f55ab927"
      },
      "execution_count": null,
      "outputs": [
        {
          "output_type": "stream",
          "name": "stdout",
          "text": [
            "[9.69228363] \n",
            "\n",
            "40.68718147987795 \n",
            "\n",
            "[ 0.         22.86056528  0.         25.5171764   0.         20.70044159\n",
            "  0.          0.         15.98248568  0.          0.         18.39049385\n",
            "  0.          0.          0.          0.          0.          0.\n",
            " 37.53991298  0.         -0.19184851 26.5334866  34.28719537  0.\n",
            " 40.68718148] \n",
            "\n"
          ]
        }
      ]
    },
    {
      "cell_type": "code",
      "source": [
        "averageoverstrike = []\n",
        "for i in range(100,201,1):\n",
        "  mean, last, list = barrierknockout(75,i,100)\n",
        "  averageoverstrike = np.append(averageoverstrike,mean)\n"
      ],
      "metadata": {
        "id": "dbgAkDtKtEy5"
      },
      "execution_count": null,
      "outputs": []
    },
    {
      "cell_type": "markdown",
      "source": [
        "**Plot the relationship between option value and the barrier**"
      ],
      "metadata": {
        "id": "S0_QdKx2WP5U"
      }
    },
    {
      "cell_type": "code",
      "source": [
        "x = np.arange(100,201,1)\n",
        "plt.plot(x,averageoverstrike, label ='Mean Option Value')\n",
        "plt.title('Strike = 100, s0 = 100, mu = .14, sigma = .2, t = 1')\n",
        "plt.xlabel('Barrier')\n",
        "plt.ylabel('Option value')\n",
        "plt.legend()\n",
        "plt.show()"
      ],
      "metadata": {
        "colab": {
          "base_uri": "https://localhost:8080/",
          "height": 295
        },
        "id": "-Vh_hTRKtwGw",
        "outputId": "575d53d4-a82c-447a-83d4-a4a45a3605f5"
      },
      "execution_count": null,
      "outputs": [
        {
          "output_type": "display_data",
          "data": {
            "text/plain": [
              "<Figure size 432x288 with 1 Axes>"
            ],
            "image/png": "[encoded data removed]"
          },
          "metadata": {
            "needs_background": "light"
          }
        }
      ]
    },
    {
      "cell_type": "markdown",
      "source": [
        "Analyic formula for up-and-out call barrier option\n",
        "John Hull page 621"
      ],
      "metadata": {
        "id": "3CfKcB1jC7LT"
      }
    },
    {
      "cell_type": "code",
      "source": [
        "H = barrier\n",
        "T = t\n",
        "l_ambda = (mu+(sigma*sigma)/2)/(sigma*sigma)\n",
        "q = 0 #div\n",
        "x = math.log(st[0]/H)/(sigma*math.sqrt(T))+(l_ambda*sigma*math.sqrt(T))\n",
        "y = math.log(H**2/st[0]*strike)/(sigma*math.sqrt(T))+(l_ambda*sigma*math.sqrt(T))\n",
        "y_one = math.log(H/st[0])/(sigma*math.sqrt(T))+(l_ambda*sigma*math.sqrt(T))"
      ],
      "metadata": {
        "id": "H9uA0rShC6Hc"
      },
      "execution_count": null,
      "outputs": []
    },
    {
      "cell_type": "code",
      "source": [
        "from scipy.stats import norm\n",
        "c_ui = st[0]*norm.cdf(x)*math.exp(-q*T)-strike*math.exp(-mu*T)*norm.cdf(x-sigma*math.sqrt(T))-st[0]*math.exp(-q*T)*(H/st[0])**(2*l_ambda)*(norm.cdf(-y)-norm.cdf(-y_one))+strike*math.exp(-mu*T)*(H/st[0])**(2*l_ambda-2)*(norm.cdf(-y+sigma*math.sqrt(T)-norm.cdf(-y_one+sigma*math.sqrt(T))))\n",
        "print('value of barrier option if barrier > St')\n",
        "print(c_ui)"
      ],
      "metadata": {
        "colab": {
          "base_uri": "https://localhost:8080/"
        },
        "id": "d_R3z4D2F0ZL",
        "outputId": "54b90670-0153-4430-d17d-6a7f85ef115f"
      },
      "execution_count": null,
      "outputs": [
        {
          "output_type": "stream",
          "name": "stdout",
          "text": [
            "value of barrier option if barrier > St\n",
            "29.05565241410068\n"
          ]
        }
      ]
    },
    {
      "cell_type": "code",
      "source": [
        "mean, last, list = barrierknockout(75,130,1000)\n",
        "mean"
      ],
      "metadata": {
        "colab": {
          "base_uri": "https://localhost:8080/"
        },
        "id": "-zX6cu0fI-lU",
        "outputId": "17cc14df-1308-4586-fa1d-323b4dcd5330"
      },
      "execution_count": null,
      "outputs": [
        {
          "output_type": "execute_result",
          "data": {
            "text/plain": [
              "array([16.99106599])"
            ]
          },
          "metadata": {},
          "execution_count": 196
        }
      ]
    },
    {
      "cell_type": "code",
      "source": [
        "#Vanilla option\n",
        "d1 = (math.log(st[0]/strike)+(mu-q+sigma*sigma/2)*T)/(sigma*math.sqrt(T))\n",
        "d2 = d1-sigma*math.sqrt(T)\n",
        "c = st[0]*math.exp(-q*T)*norm.cdf(d1)-strike*math.exp(-mu*T)*norm.cdf(d2)\n",
        "c"
      ],
      "metadata": {
        "colab": {
          "base_uri": "https://localhost:8080/"
        },
        "id": "PL8u1hJlLdyD",
        "outputId": "7ae35b41-c912-4820-ff5b-0027f6f2d022"
      },
      "execution_count": null,
      "outputs": [
        {
          "output_type": "execute_result",
          "data": {
            "text/plain": [
              "34.8916462557475"
            ]
          },
          "metadata": {},
          "execution_count": 201
        }
      ]
    },
    {
      "cell_type": "code",
      "source": [
        "#value if option is ITM\n",
        "np.mean(list[list>0])\n"
      ],
      "metadata": {
        "colab": {
          "base_uri": "https://localhost:8080/"
        },
        "id": "kBL45W_HLt-E",
        "outputId": "1fc8f9c0-a563-493e-def9-734ea12a2e7c"
      },
      "execution_count": null,
      "outputs": [
        {
          "output_type": "execute_result",
          "data": {
            "text/plain": [
              "28.217316444916186"
            ]
          },
          "metadata": {},
          "execution_count": 208
        }
      ]
    },
    {
      "cell_type": "code",
      "source": [
        "prob_ITM = np.count_nonzero(list[list>0])/np.size(list)\n",
        "print(prob_ITM)\n",
        "print(prob_ITM*c_ui)"
      ],
      "metadata": {
        "colab": {
          "base_uri": "https://localhost:8080/"
        },
        "id": "H3o0k87kNlOl",
        "outputId": "6f4aa80d-68f7-423d-b675-fc502f58406b"
      },
      "execution_count": null,
      "outputs": [
        {
          "output_type": "stream",
          "name": "stdout",
          "text": [
            "0.6062\n",
            "17.61353649342783\n"
          ]
        }
      ]
    }
  ]
}