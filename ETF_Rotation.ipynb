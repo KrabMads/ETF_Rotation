{
  "nbformat": 4,
  "nbformat_minor": 0,
  "metadata": {
    "colab": {
      "provenance": [],
      "authorship_tag": "ABX9TyOanfFlHaFJGsJZ6OOBG1+F",
      "include_colab_link": true
    },
    "kernelspec": {
      "name": "python3",
      "display_name": "Python 3"
    },
    "language_info": {
      "name": "python"
    }
  },
  "cells": [
    {
      "cell_type": "markdown",
      "metadata": {
        "id": "view-in-github",
        "colab_type": "text"
      },
      "source": [
        "<a href=\"https://colab.research.google.com/github/KrabMads/ETF_Rotation/blob/main/ETF_Rotation.ipynb\" target=\"_parent\"><img src=\"https://colab.research.google.com/assets/colab-badge.svg\" alt=\"Open In Colab\"/></a>"
      ]
    },
    {
      "cell_type": "code",
      "execution_count": null,
      "metadata": {
        "colab": {
          "base_uri": "https://localhost:8080/"
        },
        "id": "_0DnXhtj-Ucu",
        "outputId": "1f71d60e-5a80-46fa-ed3f-554d2568a2cf"
      },
      "outputs": [
        {
          "output_type": "stream",
          "name": "stdout",
          "text": [
            "Looking in indexes: https://pypi.org/simple, https://us-python.pkg.dev/colab-wheels/public/simple/\n",
            "Requirement already satisfied: numpy in /usr/local/lib/python3.7/dist-packages (1.21.6)\n",
            "Requirement already satisfied: pandas in /usr/local/lib/python3.7/dist-packages (1.3.5)\n",
            "Requirement already satisfied: yfinance in /usr/local/lib/python3.7/dist-packages (0.1.74)\n",
            "Requirement already satisfied: nsepy in /usr/local/lib/python3.7/dist-packages (0.8)\n",
            "Requirement already satisfied: pyfolio in /usr/local/lib/python3.7/dist-packages (0.9.2)\n",
            "Requirement already satisfied: scipy in /usr/local/lib/python3.7/dist-packages (1.7.3)\n",
            "Requirement already satisfied: python-dateutil>=2.7.3 in /usr/local/lib/python3.7/dist-packages (from pandas) (2.8.2)\n",
            "Requirement already satisfied: pytz>=2017.3 in /usr/local/lib/python3.7/dist-packages (from pandas) (2022.2.1)\n",
            "Requirement already satisfied: six>=1.5 in /usr/local/lib/python3.7/dist-packages (from python-dateutil>=2.7.3->pandas) (1.15.0)\n",
            "Requirement already satisfied: requests>=2.26 in /usr/local/lib/python3.7/dist-packages (from yfinance) (2.28.1)\n",
            "Requirement already satisfied: lxml>=4.5.1 in /usr/local/lib/python3.7/dist-packages (from yfinance) (4.9.1)\n",
            "Requirement already satisfied: multitasking>=0.0.7 in /usr/local/lib/python3.7/dist-packages (from yfinance) (0.0.11)\n",
            "Requirement already satisfied: charset-normalizer<3,>=2 in /usr/local/lib/python3.7/dist-packages (from requests>=2.26->yfinance) (2.1.0)\n",
            "Requirement already satisfied: certifi>=2017.4.17 in /usr/local/lib/python3.7/dist-packages (from requests>=2.26->yfinance) (2022.6.15)\n",
            "Requirement already satisfied: urllib3<1.27,>=1.21.1 in /usr/local/lib/python3.7/dist-packages (from requests>=2.26->yfinance) (1.24.3)\n",
            "Requirement already satisfied: idna<4,>=2.5 in /usr/local/lib/python3.7/dist-packages (from requests>=2.26->yfinance) (2.10)\n",
            "Requirement already satisfied: beautifulsoup4 in /usr/local/lib/python3.7/dist-packages (from nsepy) (4.6.3)\n",
            "Requirement already satisfied: click in /usr/local/lib/python3.7/dist-packages (from nsepy) (7.1.2)\n",
            "Requirement already satisfied: matplotlib>=1.4.0 in /usr/local/lib/python3.7/dist-packages (from pyfolio) (3.2.2)\n",
            "Requirement already satisfied: scikit-learn>=0.16.1 in /usr/local/lib/python3.7/dist-packages (from pyfolio) (1.0.2)\n",
            "Requirement already satisfied: empyrical>=0.5.0 in /usr/local/lib/python3.7/dist-packages (from pyfolio) (0.5.5)\n",
            "Requirement already satisfied: ipython>=3.2.3 in /usr/local/lib/python3.7/dist-packages (from pyfolio) (7.9.0)\n",
            "Requirement already satisfied: seaborn>=0.7.1 in /usr/local/lib/python3.7/dist-packages (from pyfolio) (0.11.2)\n",
            "Requirement already satisfied: pandas-datareader>=0.2 in /usr/local/lib/python3.7/dist-packages (from empyrical>=0.5.0->pyfolio) (0.9.0)\n",
            "Requirement already satisfied: pygments in /usr/local/lib/python3.7/dist-packages (from ipython>=3.2.3->pyfolio) (2.6.1)\n",
            "Requirement already satisfied: pickleshare in /usr/local/lib/python3.7/dist-packages (from ipython>=3.2.3->pyfolio) (0.7.5)\n",
            "Requirement already satisfied: decorator in /usr/local/lib/python3.7/dist-packages (from ipython>=3.2.3->pyfolio) (4.4.2)\n",
            "Requirement already satisfied: traitlets>=4.2 in /usr/local/lib/python3.7/dist-packages (from ipython>=3.2.3->pyfolio) (5.1.1)\n",
            "Requirement already satisfied: setuptools>=18.5 in /usr/local/lib/python3.7/dist-packages (from ipython>=3.2.3->pyfolio) (57.4.0)\n",
            "Requirement already satisfied: backcall in /usr/local/lib/python3.7/dist-packages (from ipython>=3.2.3->pyfolio) (0.2.0)\n",
            "Requirement already satisfied: pexpect in /usr/local/lib/python3.7/dist-packages (from ipython>=3.2.3->pyfolio) (4.8.0)\n",
            "Requirement already satisfied: jedi>=0.10 in /usr/local/lib/python3.7/dist-packages (from ipython>=3.2.3->pyfolio) (0.18.1)\n",
            "Requirement already satisfied: prompt-toolkit<2.1.0,>=2.0.0 in /usr/local/lib/python3.7/dist-packages (from ipython>=3.2.3->pyfolio) (2.0.10)\n",
            "Requirement already satisfied: parso<0.9.0,>=0.8.0 in /usr/local/lib/python3.7/dist-packages (from jedi>=0.10->ipython>=3.2.3->pyfolio) (0.8.3)\n",
            "Requirement already satisfied: cycler>=0.10 in /usr/local/lib/python3.7/dist-packages (from matplotlib>=1.4.0->pyfolio) (0.11.0)\n",
            "Requirement already satisfied: pyparsing!=2.0.4,!=2.1.2,!=2.1.6,>=2.0.1 in /usr/local/lib/python3.7/dist-packages (from matplotlib>=1.4.0->pyfolio) (3.0.9)\n",
            "Requirement already satisfied: kiwisolver>=1.0.1 in /usr/local/lib/python3.7/dist-packages (from matplotlib>=1.4.0->pyfolio) (1.4.4)\n",
            "Requirement already satisfied: typing-extensions in /usr/local/lib/python3.7/dist-packages (from kiwisolver>=1.0.1->matplotlib>=1.4.0->pyfolio) (4.1.1)\n",
            "Requirement already satisfied: wcwidth in /usr/local/lib/python3.7/dist-packages (from prompt-toolkit<2.1.0,>=2.0.0->ipython>=3.2.3->pyfolio) (0.2.5)\n",
            "Requirement already satisfied: joblib>=0.11 in /usr/local/lib/python3.7/dist-packages (from scikit-learn>=0.16.1->pyfolio) (1.1.0)\n",
            "Requirement already satisfied: threadpoolctl>=2.0.0 in /usr/local/lib/python3.7/dist-packages (from scikit-learn>=0.16.1->pyfolio) (3.1.0)\n",
            "Requirement already satisfied: ptyprocess>=0.5 in /usr/local/lib/python3.7/dist-packages (from pexpect->ipython>=3.2.3->pyfolio) (0.7.0)\n"
          ]
        }
      ],
      "source": [
        "!pip install numpy pandas yfinance nsepy pyfolio scipy"
      ]
    },
    {
      "cell_type": "code",
      "source": [
        "!git version\n",
        "git remote add origin https://github.com/KrabMads/ETF_Rotation.git\n",
        "git branch -M main\n",
        "git push -u origin main"
      ],
      "metadata": {
        "colab": {
          "base_uri": "https://localhost:8080/",
          "height": 130
        },
        "id": "TdkyJ9mBQiCs",
        "outputId": "57013e7f-63b4-4ed0-dbc2-751b3a7638f2"
      },
      "execution_count": 3,
      "outputs": [
        {
          "output_type": "error",
          "ename": "SyntaxError",
          "evalue": "ignored",
          "traceback": [
            "\u001b[0;36m  File \u001b[0;32m\"<ipython-input-3-a6ccfa7ee7bc>\"\u001b[0;36m, line \u001b[0;32m2\u001b[0m\n\u001b[0;31m    git remote add origin https://github.com/KrabMads/ETF_Rotation.git\u001b[0m\n\u001b[0m        ^\u001b[0m\n\u001b[0;31mSyntaxError\u001b[0m\u001b[0;31m:\u001b[0m invalid syntax\n"
          ]
        }
      ]
    },
    {
      "cell_type": "code",
      "source": [
        "import numpy as np\n",
        "import pandas as pd\n",
        "import yfinance as yf\n",
        "import warnings\n",
        "from datetime import date, timedelta\n",
        "import matplotlib.pyplot as plt\n",
        "from google.colab import files\n",
        "import seaborn as sns\n",
        "import nsepy\n",
        "from statistics import mean\n",
        "import pyfolio as pf\n",
        "from dateutil.relativedelta import relativedelta\n",
        "import scipy.optimize as optimize\n",
        "import scipy.stats as stats\n",
        "\n",
        "warnings.filterwarnings(\"ignore\")\n",
        "pd.options.display.float_format = '{:.4}'.format"
      ],
      "metadata": {
        "colab": {
          "base_uri": "https://localhost:8080/"
        },
        "id": "3U4nRDL5-deJ",
        "outputId": "1099f772-9475-45b6-ee6a-78f042e83370"
      },
      "execution_count": null,
      "outputs": [
        {
          "output_type": "stream",
          "name": "stderr",
          "text": [
            "/usr/local/lib/python3.7/dist-packages/pyfolio/pos.py:27: UserWarning: Module \"zipline.assets\" not found; mutltipliers will not be applied to position notionals.\n",
            "  'Module \"zipline.assets\" not found; mutltipliers will not be applied' +\n"
          ]
        }
      ]
    },
    {
      "cell_type": "code",
      "source": [
        "# Date range\n",
        "#start = '2016-01-01'\n",
        "#end = '2022-08-07'\n",
        "end = date.today()\n",
        "\n",
        "endperiod = date.today()\n",
        "\n",
        "start = endperiod - timedelta(days=+5000)"
      ],
      "metadata": {
        "id": "C7QU1Ggw-f5R"
      },
      "execution_count": null,
      "outputs": []
    },
    {
      "cell_type": "code",
      "source": [
        "# Tickers of assets\n",
        "Telecom = 'vox'\n",
        "Consumer_Staples = 'XLP'\n",
        "Industrials = 'XLI'\n",
        "Consumer_Discretionary = 'XLY'\n",
        "Utilities = 'XLU'\n",
        "Materials = 'GDX'\n",
        "Financials = 'XLF'\n",
        "RealEstate = 'VNQ'\n",
        "Energy = 'XLE'\n",
        "Healthcare = 'XLV'\n",
        "Technology = 'QQQ'\n",
        "MSCI_World = 'XWD.TO'\n",
        "\n",
        "BondShort = 'SHY'\n",
        "BondLong = 'TLT'\n",
        "\n"
      ],
      "metadata": {
        "id": "GI26YbaU-kKB"
      },
      "execution_count": null,
      "outputs": []
    },
    {
      "cell_type": "code",
      "source": [
        "#assets = [Telecom, Consumer_Staples, Industrials, Consumer_Discretionary, Utilities, Materials, Financials, RealEstate, Energy, Healthcare, Technology, ]\n",
        "assets = [MSCI_World, BondLong]\n",
        "assets.sort()\n",
        "\n"
      ],
      "metadata": {
        "id": "Knl01LXS-n6o"
      },
      "execution_count": null,
      "outputs": []
    },
    {
      "cell_type": "code",
      "source": [
        "data = yf.download(assets, start = start, end = end)\n",
        "data = data.loc[:,('Adj Close', slice(None))]\n",
        "#data.columns = assets\n",
        "data.columns = ['MSCI_World', 'BondLong']\n",
        "data\n",
        "returns = data.pct_change()"
      ],
      "metadata": {
        "colab": {
          "base_uri": "https://localhost:8080/"
        },
        "id": "vJxY9agj_XU6",
        "outputId": "efe74e45-4d90-44b8-def7-405cc136c488"
      },
      "execution_count": null,
      "outputs": [
        {
          "output_type": "stream",
          "name": "stdout",
          "text": [
            "[*********************100%***********************]  2 of 2 completed\n"
          ]
        }
      ]
    },
    {
      "cell_type": "code",
      "source": [
        "len = len(data)"
      ],
      "metadata": {
        "id": "uny687ZV_e8z"
      },
      "execution_count": null,
      "outputs": []
    },
    {
      "cell_type": "code",
      "source": [
        "fd = pd.DataFrame({\"Short\":[],\"Long\":[],\"CumulativeStratReturn\":[],\"SR\":[],\"Volatility\":[],\"DrawDown\":[]})\n",
        "\n",
        "MaxEndValue = [1, 1 ,0, 0, 500, -10, 0, 0]\n",
        "MaxSharpe = [1, 1, 0, 0, 500, -10, 0, 0]\n",
        "LowVol = [1, 1, 0, 0, 500, -10, 0, 0]\n",
        "MinDrawDown = [1, 1, 0, 0, 500, -10, 0, 0]\n",
        "\n",
        "a = 0 \n",
        "y = 0\n",
        "\n",
        "for w in range(1,501,1):\n",
        "  #for z in range(w+1,201,1):\n",
        "\n",
        "    ma_short = data.ewm(w).mean().shift()\n",
        "    #ma_long = data.ewm(z).mean().shift()\n",
        "    t = w*2\n",
        "    ma_long = data.ewm(t).mean().shift()\n",
        "\n",
        "    signal = np.where(ma_short > ma_long,1,0)\n",
        "\n",
        "    Strategy_Return = returns*signal\n",
        "    Strat_Return = np.true_divide(Strategy_Return.sum(1),(Strategy_Return!=0).sum(1))\n",
        "\n",
        "    CumulativeStratReturn = np.cumprod(1 + Strat_Return)\n",
        "\n",
        "    vol = np.std(Strat_Return)*np.sqrt(252)\n",
        "    r = np.mean(Strat_Return)*252\n",
        "    SR = r/vol\n",
        "\n",
        "    Roll_Max = CumulativeStratReturn.cummax()\n",
        "    Drawdown = CumulativeStratReturn/Roll_Max - 1.0\n",
        "    Max_Drawdown = Drawdown.cummin() \n",
        "\n",
        "    NoTrades = 0\n",
        "\n",
        "    for y in range(0,2,1):\n",
        "      #y = y + 1\n",
        "      for x in range(0,len-1,1):\n",
        "        #a = a + 1\n",
        "        a = x+1\n",
        "        if signal[a,y] != signal[x,y]:\n",
        "          NoTrades = NoTrades + 1\n",
        "        else:\n",
        "          NoTrades = NoTrades\n",
        "          a = a + 1\n",
        "    \n",
        "    #print(Max_Drawdown[-1])\n",
        "    \n",
        "    loopEndReturn = [w, t, CumulativeStratReturn[-1], SR, vol, Max_Drawdown[-1], NoTrades, r]\n",
        "    if CumulativeStratReturn[-1] > MaxEndValue[2]:\n",
        "      MaxEndValue = loopEndReturn\n",
        "      MaxEndValueCum = CumulativeStratReturn\n",
        "\n",
        "    loopSR = [w, t, CumulativeStratReturn[-1], SR, vol, Max_Drawdown[-1], NoTrades, r]\n",
        "    if SR > MaxSharpe[3]:\n",
        "      MaxSharpe = loopSR\n",
        "      MaxSharpeCum = CumulativeStratReturn\n",
        "\n",
        "    loopVol = [w, t, CumulativeStratReturn[-1], SR, vol, Max_Drawdown[-1], NoTrades, r]\n",
        "    if vol < LowVol[4]:\n",
        "      LowVol = loopVol\n",
        "      LowVolCum = CumulativeStratReturn\n",
        "\n",
        "    loopDD = [w, t, CumulativeStratReturn[-1], SR, vol, Max_Drawdown[-1], NoTrades, r]\n",
        "    if Max_Drawdown[-1] > MinDrawDown[5]:\n",
        "      MinDrawDown = loopDD\n",
        "      MinDrawDownCum = CumulativeStratReturn\n",
        "\n",
        "    fd = fd.append({'Short':w, 'Long':t, 'CumulativeStratReturn':CumulativeStratReturn[-1],'SR':SR,'Volatility':vol,'DrawDown':Max_Drawdown[-1]}, ignore_index = True)\n",
        "    #fd = pd.DataFrame({\"Short\":[],\"Long\":[],\"CumulativeStratReturn\":[],\"SR\":[],\"Volatility\":[],\"DrawDown\":[]})\n",
        "\n",
        "print('Strategy: MaxEndValue')\n",
        "print(MaxEndValue)\n",
        "print('Strategy: MaxSharpe')\n",
        "print(MaxSharpe)\n",
        "print('Strategy: LowVol')\n",
        "print(LowVol)\n",
        "print('Strategy: MinDrawdown')\n",
        "print(MinDrawDown)\n"
      ],
      "metadata": {
        "colab": {
          "base_uri": "https://localhost:8080/"
        },
        "id": "AY2TBmVK_i_x",
        "outputId": "876f73db-a051-471f-c6bc-b77364cfbacf"
      },
      "execution_count": null,
      "outputs": [
        {
          "output_type": "stream",
          "name": "stdout",
          "text": [
            "Strategy: MaxEndValue\n",
            "[14, 28, 3.9344735263004535, 0.979442818485969, 0.11723799349044144, -0.15727688795658756, 85, 0.11482791077791765]\n",
            "Strategy: MaxSharpe\n",
            "[14, 28, 3.9344735263004535, 0.979442818485969, 0.11723799349044144, -0.15727688795658756, 85, 0.11482791077791765]\n",
            "Strategy: LowVol\n",
            "[484, 968, 2.205062845364494, 0.7116255099757738, 0.08911850157887571, -0.244074742704959, 8, 0.06341899913434423]\n",
            "Strategy: MinDrawdown\n",
            "[13, 26, 3.6060256559654484, 0.9205254216104493, 0.11747973429904415, -0.15727688795658734, 97, 0.10814308194631117]\n"
          ]
        }
      ]
    },
    {
      "cell_type": "code",
      "source": [
        "#Benchmark\n",
        "returns = data.pct_change()\n",
        "\n",
        "benchmark = np.mean(returns,axis=1)\n",
        "CumulativeBenchmark = np.cumprod(1 + benchmark)\n",
        "print('EndReturn')\n",
        "print(CumulativeBenchmark[-1])\n",
        "\n",
        "vol = np.std(benchmark)*np.sqrt(252)\n",
        "print('Vol')\n",
        "print(vol)\n",
        "\n",
        "r = np.mean(benchmark)*252\n",
        "print('r')\n",
        "print(r)\n",
        "\n",
        "SR = r/vol\n",
        "print('SR')\n",
        "print(SR)\n",
        "\n",
        "Roll_Max = CumulativeBenchmark.cummax()\n",
        "Drawdown = CumulativeBenchmark/Roll_Max - 1.0\n",
        "Max_Drawdown = Drawdown.cummin()\n",
        "print('Drawdown')\n",
        "print(Max_Drawdown[-1])"
      ],
      "metadata": {
        "colab": {
          "base_uri": "https://localhost:8080/"
        },
        "id": "emDvcyuHARJm",
        "outputId": "bde2a6e1-3b05-4ab9-c096-085784671cef"
      },
      "execution_count": null,
      "outputs": [
        {
          "output_type": "stream",
          "name": "stdout",
          "text": [
            "EndReturn\n",
            "2.400858935478974\n",
            "Vol\n",
            "0.09545912732083432\n",
            "r\n",
            "0.06757851265271081\n",
            "SR\n",
            "0.7079313895839643\n",
            "Drawdown\n",
            "-0.265853444674675\n"
          ]
        }
      ]
    },
    {
      "cell_type": "code",
      "source": [
        "#returns\n",
        "MSCIReturn = np.cumprod(1 + returns.MSCI_World)\n",
        "vol = np.std(returns.MSCI_World)*np.sqrt(252)\n",
        "print('Vol')\n",
        "print(vol)\n",
        "\n",
        "r = np.mean(returns.MSCI_World)*252\n",
        "print('r')\n",
        "print(r)\n",
        "\n",
        "SR = r/vol\n",
        "print('SR')\n",
        "print(SR)\n",
        "\n",
        "Roll_Max = MSCIReturn.cummax()\n",
        "Drawdown = MSCIReturn/Roll_Max - 1.0\n",
        "Max_Drawdown = Drawdown.cummin()\n",
        "print('Drawdown')\n",
        "print(Max_Drawdown[-1])"
      ],
      "metadata": {
        "colab": {
          "base_uri": "https://localhost:8080/"
        },
        "id": "Sot9TGt_AZLi",
        "outputId": "c42d0cfa-1f2e-493c-b41b-5fb1385a93f8"
      },
      "execution_count": null,
      "outputs": [
        {
          "output_type": "stream",
          "name": "stdout",
          "text": [
            "Vol\n",
            "0.15073439622040002\n",
            "r\n",
            "0.0397113061197021\n",
            "SR\n",
            "0.2634521855359226\n",
            "Drawdown\n",
            "-0.3475740890728425\n"
          ]
        }
      ]
    },
    {
      "cell_type": "code",
      "source": [
        "BondReturn = np.cumprod(1 + returns.BondLong)\n",
        "vol = np.std(returns.BondLong)*np.sqrt(252)\n",
        "print('Vol')\n",
        "print(vol)\n",
        "\n",
        "r = np.mean(returns.BondLong)*252\n",
        "print('r')\n",
        "print(r)\n",
        "\n",
        "SR = r/vol\n",
        "print('SR')\n",
        "print(SR)\n",
        "\n",
        "Roll_Max = BondReturn.cummax()\n",
        "Drawdown = BondReturn/Roll_Max - 1.0\n",
        "Max_Drawdown = Drawdown.cummin()\n",
        "print('Drawdown')\n",
        "print(Max_Drawdown[-1])"
      ],
      "metadata": {
        "colab": {
          "base_uri": "https://localhost:8080/"
        },
        "id": "eVQ6RROHAj16",
        "outputId": "ca6cac49-9cc4-4387-cedb-b7ada17385fc"
      },
      "execution_count": null,
      "outputs": [
        {
          "output_type": "stream",
          "name": "stdout",
          "text": [
            "Vol\n",
            "0.14755692492577988\n",
            "r\n",
            "0.11144886693608476\n",
            "SR\n",
            "0.7552940466341568\n",
            "Drawdown\n",
            "-0.274811695489272\n"
          ]
        }
      ]
    },
    {
      "cell_type": "code",
      "source": [
        "plt.plot(BondReturn, label = \"Bond Return\")\n",
        "plt.plot(MSCIReturn, label = \"MSCI World\")\n",
        "plt.plot(MaxEndValueCum, label = \"MaxEndValue\")\n",
        "plt.plot(MaxSharpeCum, label = \"MaxSharpe\")\n",
        "plt.plot(LowVolCum, label = \"LowVol\")\n",
        "plt.plot(MinDrawDownCum, label = \"MinDrawDown\")\n",
        "plt.legend()\n",
        "plt.show()"
      ],
      "metadata": {
        "colab": {
          "base_uri": "https://localhost:8080/",
          "height": 265
        },
        "id": "fM8zGphhArgB",
        "outputId": "45a353df-800f-4b72-8de4-6810e06de3f8"
      },
      "execution_count": null,
      "outputs": [
        {
          "output_type": "display_data",
          "data": {
            "text/plain": [
              "<Figure size 432x288 with 1 Axes>"
            ],
            "image/png": "[encoded data removed]"
          },
          "metadata": {
            "needs_background": "light"
          }
        }
      ]
    },
    {
      "cell_type": "code",
      "source": [],
      "metadata": {
        "id": "lGaY6gdzBKH6"
      },
      "execution_count": null,
      "outputs": []
    }
  ]
}